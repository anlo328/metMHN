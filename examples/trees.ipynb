{
 "cells": [
  {
   "cell_type": "code",
   "execution_count": 5,
   "metadata": {
    "dotnet_interactive": {
     "language": "csharp"
    },
    "polyglot_notebook": {
     "kernelName": "csharp"
    }
   },
   "outputs": [],
   "source": [
    "from metmhn.np.kronvec import kron_diag as get_diag_paired\n",
    "import numpy as np\n",
    "from metmhn.model import bits_fixed_n, MetMHN\n",
    "import itertools\n",
    "from scipy.linalg.blas import dcopy, dscal, daxpy\n",
    "import pandas as pd\n",
    "from historytree import HistoryTree\n",
    "import matplotlib.pyplot as plt\n",
    "\n",
    "log_theta = pd.read_csv(\n",
    "    R\"..\\results\\luad\\luad_16_muts_5_cnvs_0028.csv\", index_col=0)\n",
    "obs1 = log_theta.iloc[0].to_numpy()\n",
    "obs2 = log_theta.iloc[1].to_numpy()\n",
    "events = log_theta.index\n",
    "\n",
    "log_theta.drop(index=[0, 1], inplace=True)\n",
    "mmhn = MetMHN(log_theta=log_theta.to_numpy(), obs1=obs1, obs2=obs2)\n",
    "\n",
    "patients = pd.read_csv(\n",
    "    R\"..\\data\\luad\\G13_LUAD_PM_v2_Events_20and15_Full.csv\", index_col=0)\n",
    "paired = patients[patients[\"paired\"] == 1].drop(\n",
    "    columns=[\"P.AgeAtSeqRep\", \"M.AgeAtSeqRep\"])"
   ]
  },
  {
   "cell_type": "code",
   "execution_count": null,
   "metadata": {},
   "outputs": [],
   "source": [
    "order_probs = [\n",
    "    mmhn._likeliest_order_paired(state=row.to_numpy())\n",
    "    for i, row in paired.iloc[:, :-56].iterrows()\n",
    "]"
   ]
  },
  {
   "cell_type": "code",
   "execution_count": null,
   "metadata": {},
   "outputs": [],
   "source": [
    "def paired_orders_to_single(orders):\n",
    "    singles = list()\n",
    "    for order in orders:\n",
    "        o_pt = list()\n",
    "        o_met = list()\n",
    "        for o in order:\n",
    "            if o % 2 == 0:\n",
    "                o_pt.append(o // 2)\n",
    "                if o == 2 * mmhn.n:\n",
    "                    o_met.append(o // 2)\n",
    "            else:\n",
    "                o_met.append(o // 2)\n",
    "        singles += [tuple(o_pt), tuple(o_met)]\n",
    "    return singles"
   ]
  },
  {
   "cell_type": "code",
   "execution_count": null,
   "metadata": {},
   "outputs": [],
   "source": [
    "tree = HistoryTree.from_orders(\n",
    "    paired_orders_to_single([o for o, p in order_probs])\n",
    ")"
   ]
  },
  {
   "cell_type": "code",
   "execution_count": null,
   "metadata": {},
   "outputs": [],
   "source": [
    "f, a = plt.subplots(figsize=(13, 13))\n",
    "a.set_aspect(\"equal\")\n",
    "tree.events = list(range(len(events)))\n",
    "tree.event_dict = {i: e for i, e in enumerate(events)}\n",
    "tree.draw(ax=a, node_scale=90, edge_scale=0.3)\n",
    "a.legend()\n",
    "f.savefig(\"paired.png\", dpi=600)"
   ]
  },
  {
   "cell_type": "code",
   "execution_count": null,
   "metadata": {},
   "outputs": [],
   "source": []
  }
 ],
 "metadata": {
  "kernelspec": {
   "display_name": ".venv",
   "language": "python",
   "name": "python3"
  },
  "language_info": {
   "codemirror_mode": {
    "name": "ipython",
    "version": 3
   },
   "file_extension": ".py",
   "mimetype": "text/x-python",
   "name": "python",
   "nbconvert_exporter": "python",
   "pygments_lexer": "ipython3",
   "version": "3.12.0"
  },
  "polyglot_notebook": {
   "kernelInfo": {
    "defaultKernelName": "csharp",
    "items": [
     {
      "aliases": [],
      "name": "csharp"
     }
    ]
   }
  }
 },
 "nbformat": 4,
 "nbformat_minor": 2
}
