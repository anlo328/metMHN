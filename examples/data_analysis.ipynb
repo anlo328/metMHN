{
 "cells": [
  {
   "cell_type": "code",
   "execution_count": null,
   "metadata": {},
   "outputs": [],
   "source": [
    "import metmhn.regularized_optimization as reg_opt\n",
    "import metmhn.Utilityfunctions as utils\n",
    "\n",
    "import pandas as pd\n",
    "import warnings\n",
    "warnings.simplefilter(action='ignore', \n",
    "                      category=pd.errors.PerformanceWarning)\n",
    "\n",
    "import jax.numpy as jnp\n",
    "import numpy as np\n",
    "import jax as jax\n",
    "jax.config.update(\"jax_enable_x64\", True)\n",
    "\n",
    "import logging\n",
    "# Adapt path to where logs should be kept\n",
    "logging.basicConfig(filename='../logs/paad.log',\n",
    "                    format='%(asctime)s %(levelname)-8s %(message)s',\n",
    "                    filemode='w', \n",
    "                    level=logging.INFO, \n",
    "                    force=True,\n",
    "                    datefmt='%Y-%m-%d %H:%M:%S'\n",
    "                    )"
   ]
  },
  {
   "attachments": {},
   "cell_type": "markdown",
   "metadata": {},
   "source": [
    "In the following example, we have information about the genotypes of Primary Tumors (PTs) and Metastases (MTs) for patients suffering from Pancreatic adenocarcinomas (PAADs) and Pancreatic neuroendocrine tumors (PANETs). For some patients we only know the status of either the PT or the MT. This is indicated in our data in the column 'isPaired'. The column 'metaStatus' indicates the type of the tumor ('present', 'isMetastasis', 'absent') if only a single genotype is available."
   ]
  },
  {
   "cell_type": "code",
   "execution_count": null,
   "metadata": {},
   "outputs": [],
   "source": [
    "#annot_handle = \"../data/prad/G13_PRAD_PM_onlyMuts_sampleSelection_50.csv\"\n",
    "#mut_handle = \"../data/prad/G13_PRAD_PM_onlyMuts_Events_50.csv\"\n",
    "#annot_handle = \"../data/blca/G13_BLCA_PM_onlyMuts_sampleSelection_33.csv\"\n",
    "#mut_handle = \"../data/blca/G13_BLCA_PM_onlyMuts_Events_33.csv\"\n",
    "#mut_handle = \"../data/paad/G13_PAADPANET_PM_v2_Events_30and15_Full.csv\"\n",
    "#annot_handle = \"../data/paad/G13_PAADPANET_PM_v2_sampleSelection_30and15.csv\"\n",
    "mut_handle = \"../data/luad/G13_LUAD_PM_v2_Events_20and15_Full.csv\"\n",
    "annot_handle = \"../data/luad/G13_LUAD_PM_v2_sampleSelection_20and15.csv\"\n",
    "annot_data = pd.read_csv(annot_handle)\n",
    "mut_data = pd.read_csv(mut_handle)\n",
    "mut_data.rename(columns={\"Unnamed: 0\":\"patientID\"}, inplace = True)\n",
    "dat = pd.merge(mut_data, annot_data.loc[:, ['patientID', 'metaStatus']], \n",
    "               on=[\"patientID\", \"patientID\"])\n",
    "dat.columns\n",
    "muts = dat.columns[1:-4].to_list()\n",
    "muts"
   ]
  },
  {
   "cell_type": "code",
   "execution_count": null,
   "metadata": {},
   "outputs": [],
   "source": [
    "muts = ['P.KRAS (M)', 'M.KRAS (M)', 'P.TP53 (M)', 'M.TP53 (M)',\n",
    "       'P.SMAD4/18q (Del)', 'M.SMAD4/18q (Del)', 'P.MYC/8q (Amp)', 'M.MYC/8q (Amp)',\n",
    "       'P.TP53/17p (Del)', 'M.TP53/17p (Del)', 'P.SMAD4 (M)', 'M.SMAD4 (M)', \n",
    "       'P.KRAS/12p (Amp)', 'M.KRAS/12p (Amp)', 'P.SETD2/3p (Del)', 'M.SETD2/3p (Del)',\n",
    "       'P.MEN1/11q (Del)', 'M.MEN1/11q (Del)',\n",
    "       'P.RNF43 (M)', 'M.RNF43 (M)', 'P.MEN1 (M)', 'M.MEN1 (M)', \n",
    "       'P.GNAS (M)', 'M.GNAS (M)', 'P.DAXX (M)', 'M.DAXX (M)', 'P.KMT2C (M)',\n",
    "       'M.KMT2C (M)', 'P.ATM (M)', 'M.ATM (M)', 'P.RBM10 (M)', 'M.RBM10 (M)',\n",
    "       'P.BRCA2 (M)', 'M.BRCA2 (M)', 'P.ATRX (M)', 'M.ATRX (M)',\n",
    "       'P.PIK3CA (M)', 'M.PIK3CA (M)', 'P.SETD2 (M)', 'M.SETD2 (M)',\n",
    "       'P.TGFBR1 (M)', 'M.TGFBR1 (M)', 'P.RB1 (M)', 'M.RB1 (M)',\n",
    "       'P.SMARCA4 (M)', 'M.SMARCA4 (M)', 'P.SMAD3 (M)', 'M.SMAD3 (M)',\n",
    "       'P.MAP2K4 (M)', 'M.MAP2K4 (M)', 'P.TSC2 (M)', 'M.TSC2 (M)',\n",
    "       'P.BCOR (M)', 'M.BCOR (M)', 'P.STK11 (M)', 'M.STK11 (M)', 'P.U2AF1 (M)',\n",
    "       'M.U2AF1 (M)', 'P.SF3B1 (M)', 'M.SF3B1 (M)', 'P.PTPRT (M)',\n",
    "       'M.PTPRT (M)']\n",
    "muts = ['P.TP53 (M)', 'M.TP53 (M)', 'P.TERT/5p (Amp)', 'M.TERT/5p (Amp)',\n",
    "       'P.MCL1/1q (Amp)', 'M.MCL1/1q (Amp)', 'P.KRAS (M)', 'M.KRAS (M)',\n",
    "       'P.EGFR (M)', 'M.EGFR (M)', \n",
    "       'P.TP53/17p (Del)', 'M.TP53/17p (Del)',\n",
    "       'P.STK11/19p (Del)', 'M.STK11/19p (Del)', 'P.STK11 (M)', 'M.STK11 (M)',\n",
    "       'P.KRAS/12p (Amp)', 'M.KRAS/12p (Amp)', 'P.KEAP1 (M)', 'M.KEAP1 (M)',\n",
    "       'P.SMARCA4 (M)', 'M.SMARCA4 (M)', 'P.ATM (M)', 'M.ATM (M)', 'P.NF1 (M)',\n",
    "       'M.NF1 (M)', 'P.PTPRD (M)', 'M.PTPRD (M)', 'P.PTPRT (M)', 'M.PTPRT (M)',\n",
    "       'P.ARID1A (M)', 'M.ARID1A (M)', 'P.PIK3CA (M)', 'M.PIK3CA (M)',\n",
    "       'P.BRAF (M)', 'M.BRAF (M)', 'P.SETD2 (M)', 'M.SETD2 (M)', 'P.EPHA3 (M)',\n",
    "       'M.EPHA3 (M)', 'P.FAT1 (M)', 'M.FAT1 (M)']\n",
    "# Label each datapoint with a numeric value according to its sequencetype\n",
    "dat[\"type\"] = dat.apply(utils.categorize, axis=1)\n",
    "dat[\"Seeding\"] = dat.apply(utils.add_seeding, axis=1)\n",
    "events_data = muts+[\"Seeding\"]\n",
    "\n",
    "# Only use datapoints where the state of the metastasis is known\n",
    "cleaned = dat.loc[dat[\"type\"].isin([0,1,2,3]), muts+[\"Seeding\", \"type\"]]\n",
    "cleaned.drop(cleaned[cleaned.iloc[:,:-1].sum(axis=1)<1].index, inplace=True)\n",
    "dat_prim_nomet, dat_prim_met, dat_met_only, dat_coupled = utils.split_data(cleaned, events_data)"
   ]
  },
  {
   "attachments": {},
   "cell_type": "markdown",
   "metadata": {},
   "source": [
    "Retrieve the event names and trim the PT/MT identifier:"
   ]
  },
  {
   "cell_type": "code",
   "execution_count": null,
   "metadata": {},
   "outputs": [],
   "source": [
    "events_plot = []\n",
    "for elem in cleaned.columns[:-2].to_list()[::2]:\n",
    "    full_mut_id = elem.split(\".\")\n",
    "    events_plot.append(full_mut_id[1])\n",
    "events_plot.append(\"Seeding\")"
   ]
  },
  {
   "attachments": {},
   "cell_type": "markdown",
   "metadata": {},
   "source": [
    "Enumerate the frequencies of SNVs and CNVs in all subgroups. 'NM/EM' refer to Never Metastasizing/ Ever Metastasizing tumors, where only a single genotype is known. A Mutation is referred to as 'MT/PT-private' if happens exclusively in the MT or PT, otherwise it is called 'shared':"
   ]
  },
  {
   "cell_type": "code",
   "execution_count": null,
   "metadata": {},
   "outputs": [],
   "source": [
    "n_tot = (cleaned.shape[1]-1)//2 + 1\n",
    "n_mut = n_tot-1\n",
    "utils.marg_frequs(dat_prim_nomet, dat_prim_met, dat_met_only, dat_coupled, events_plot)"
   ]
  },
  {
   "attachments": {},
   "cell_type": "markdown",
   "metadata": {},
   "source": [
    "Optional: We use a  sparsity promoting L1 penalty. The weight of the penalization can be determined in a k-fold crossvalidation:"
   ]
  },
  {
   "cell_type": "code",
   "execution_count": null,
   "metadata": {},
   "outputs": [],
   "source": [
    "#log_lams = np.linspace(-4, -2, 5)\n",
    "#lams = 10**log_lams\n",
    "#print(lams)\n",
    "#utils.cross_val(cleaned.copy(), events_data, lams, 5, 0.83)"
   ]
  },
  {
   "attachments": {},
   "cell_type": "markdown",
   "metadata": {},
   "source": [
    "Train an MHN on the full dataset:"
   ]
  },
  {
   "cell_type": "code",
   "execution_count": null,
   "metadata": {},
   "outputs": [],
   "source": [
    "penal = 0.0028 #L1 penalty on off-diagonals\n",
    "m_p_corr = 0.65\n",
    "#weights = jnp.array([4/dat_prim_met.shape[0], 4/dat_met_only.shape[0], 1/dat_coupled.shape[0]])\n",
    "weights = jnp.array([1.,1.])\n",
    "th_init, fd_init, sd_init = utils.indep(jnp.array(cleaned[events_data].to_numpy()), dat_coupled.shape[0])\n",
    "theta, fd_effects, sd_effects= reg_opt.learn_mhn(th_init, fd_init, sd_init, dat_prim_nomet, dat_prim_met, \n",
    "                                                dat_coupled, m_p_corr, weights, penal)"
   ]
  },
  {
   "cell_type": "code",
   "execution_count": null,
   "metadata": {},
   "outputs": [],
   "source": [
    "th_plot = np.row_stack((fd_effects.reshape((1,-1)), \n",
    "                    sd_effects.reshape((1,-1)), \n",
    "                    theta))"
   ]
  },
  {
   "attachments": {},
   "cell_type": "markdown",
   "metadata": {},
   "source": [
    "Visualize the results:"
   ]
  },
  {
   "cell_type": "code",
   "execution_count": null,
   "metadata": {},
   "outputs": [],
   "source": [
    "utils.plot_theta(th_plot, events_plot, .1)"
   ]
  },
  {
   "cell_type": "code",
   "execution_count": null,
   "metadata": {},
   "outputs": [],
   "source": [
    "df2 = pd.DataFrame(th_plot, columns=events_plot)\n",
    "df2.to_csv(\"../results/luad/luad_25_muts_0028.csv\")"
   ]
  }
 ],
 "metadata": {
  "kernelspec": {
   "display_name": "Python 3",
   "language": "python",
   "name": "python3"
  },
  "language_info": {
   "codemirror_mode": {
    "name": "ipython",
    "version": 3
   },
   "file_extension": ".py",
   "mimetype": "text/x-python",
   "name": "python",
   "nbconvert_exporter": "python",
   "pygments_lexer": "ipython3",
   "version": "3.11.1"
  },
  "orig_nbformat": 4,
  "vscode": {
   "interpreter": {
    "hash": "aee8b7b246df8f9039afb4144a1f6fd8d2ca17a180786b69acc140d282b71a49"
   }
  }
 },
 "nbformat": 4,
 "nbformat_minor": 2
}
