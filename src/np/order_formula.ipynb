{
 "cells": [
  {
   "cell_type": "code",
   "execution_count": 1,
   "metadata": {},
   "outputs": [],
   "source": [
    "import numpy as np\n",
    "from kronvec import kron_diag as get_diag_paired\n",
    "from src.model import bits_fixed_n, MetMHN\n",
    "import itertools\n",
    "from scipy.linalg.blas import dcopy, dscal, daxpy\n",
    "import pandas as pd\n",
    "\n",
    "log_theta = pd.read_csv(\n",
    "    \"../../results/paad/paad_mixed_08_003.csv\", index_col=0)\n",
    "tau1, tau2 = np.exp(log_theta[\"Sampling\"][:2])\n",
    "log_theta = log_theta.drop(columns=[\"Sampling\"]).to_numpy()\n",
    "mmhn = MetMHN(log_theta=log_theta, tau1=tau1, tau2=tau2)\n",
    "\n",
    "\n",
    "# n = 2\n",
    "# np.random.seed(2)\n",
    "# log_theta = 2 * np.random.random(size=(n + 1, n + 1)) - 1\n",
    "# tau1, tau2 = np.random.random(2) * 2\n",
    "# mmhn = MetMHN(log_theta=log_theta, tau1=tau1, tau2=tau2)"
   ]
  },
  {
   "cell_type": "code",
   "execution_count": 2,
   "metadata": {},
   "outputs": [],
   "source": [
    "def get_diag_unpaired(log_theta, state: np.array) -> np.array:\n",
    "    \"\"\"This returns the diagonal of the restricted rate matrix of the metMHN's Markov chain.\n",
    "\n",
    "    Args:\n",
    "        state (np.array): Binary unpaired state vector, dtype must be int32. This is the vector according\n",
    "        to which state space restriction will be performed. Shape (n,) with n the number of events including\n",
    "        seeding.\n",
    "\n",
    "    Returns:\n",
    "        np.array: Diagonal of the restricted rate matrix. Shape (2^k,) with k the number of 1s in state.\n",
    "    \"\"\"\n",
    "    k = state.sum()\n",
    "    nx = 1 << k\n",
    "    n = log_theta.shape[0]\n",
    "    diag = np.zeros(nx)\n",
    "    subdiag = np.zeros(nx)\n",
    "\n",
    "    for i in range(n):\n",
    "\n",
    "        current_length = 1\n",
    "        subdiag[0] = 1\n",
    "        # compute the ith subdiagonal of Q\n",
    "        for j in range(n):\n",
    "            if state[j]:\n",
    "                exp_theta = np.exp(log_theta[i, j])\n",
    "                if i == j:\n",
    "                    exp_theta *= -1\n",
    "                    dscal(n=current_length, a=exp_theta, x=subdiag, incx=1)\n",
    "                    dscal(n=current_length, a=0,\n",
    "                          x=subdiag[current_length:], incx=1)\n",
    "                else:\n",
    "                    dcopy(n=current_length, x=subdiag, incx=1,\n",
    "                          y=subdiag[current_length:], incy=1)\n",
    "                    dscal(n=current_length, a=exp_theta,\n",
    "                          x=subdiag[current_length:], incx=1)\n",
    "\n",
    "                current_length *= 2\n",
    "\n",
    "            elif i == j:\n",
    "                exp_theta = - np.exp(log_theta[i, j])\n",
    "                dscal(n=current_length, a=exp_theta, x=subdiag, incx=1)\n",
    "\n",
    "        # add the subdiagonal to dg\n",
    "        daxpy(n=nx, a=1, x=subdiag, incx=1, y=diag, incy=1)\n",
    "    return diag"
   ]
  },
  {
   "cell_type": "code",
   "execution_count": 74,
   "metadata": {},
   "outputs": [
    {
     "data": {
      "text/plain": [
       "9.33568477382706e-09"
      ]
     },
     "execution_count": 74,
     "metadata": {},
     "output_type": "execute_result"
    }
   ],
   "source": [
    "def likelihood(order_1, order_2, log_theta, tau1, tau2):\n",
    "    \"\"\" Compute the likelihood of two orders of events happening before the first\n",
    "    and the second observation \n",
    "\n",
    "    Args:\n",
    "        order_1 (np.array): Order of events (2i and 2i+1 encode the ith events happening in PT and Met respectively)\n",
    "        that have happened when the first observation has been made. Note that these do not correspond to the actual PT\n",
    "        observation, as it is possible that events have happened in the metastasis that are not visible in the PT \n",
    "        observation.\n",
    "        order_2 (_type_): Order of events (2i and 2i+1 encode the ith events happening in PT and Met respectively)\n",
    "        that have happened when the second observation has been made. Note that these do not correspond to the actual Met\n",
    "        observation, as it is possible that events have happened in the primary tumor that are not visible in the Met \n",
    "        observation.\n",
    "        log_theta (_type_): Logarithmic theta values\n",
    "        tau1 (_type_): rate of first observation\n",
    "        tau2 (_type_): rate of second observation\n",
    "\n",
    "    Returns:\n",
    "        float: likelihood of these two orders happening\n",
    "    \"\"\"\n",
    "    # translate first observation to state\n",
    "    n = log_theta.shape[0] - 1\n",
    "    state = np.zeros(2 * n + 1, dtype=int)\n",
    "    if len(order_1) > 0:\n",
    "        state[order_1] = 1\n",
    "    diag = get_diag_paired(log_theta=log_theta, n=n, state=state)\n",
    "\n",
    "    event_to_bin = {e: 1 << i for i, e in enumerate(np.sort(order_1))}\n",
    "\n",
    "    p = tau1 / (tau1 - diag[0])\n",
    "\n",
    "    st = np.zeros(2 * n + 1)\n",
    "    st_bin = 0  # binary state\n",
    "    seeded = False\n",
    "    for i, e in enumerate(order_1):\n",
    "        if not seeded:\n",
    "            if i % 2:  # if the seeding has not happened yet, every second event is just the second part of the joint development\n",
    "                continue\n",
    "            if e == 2 * n:  # seeding\n",
    "                seeded = True\n",
    "                st[-1] = 1\n",
    "                st_bin += event_to_bin[2 * n]\n",
    "                p *= (np.exp(log_theta[n, st[::2].astype(bool)\n",
    "                                       ].sum()) / (tau1 - diag[st_bin]))\n",
    "            else:\n",
    "                st[[e, e + 1]] = 1\n",
    "                st_bin += (event_to_bin[e] + event_to_bin[e + 1])\n",
    "                p *= (np.exp(log_theta[e // 2, st[::2].astype(bool)\n",
    "                                       ].sum()) / (tau1 - diag[st_bin]))\n",
    "        else:\n",
    "            st[e] = 1\n",
    "            st_bin += event_to_bin[e]\n",
    "            if not e % 2:  # PT event\n",
    "                p *= (np.exp(log_theta[e//2, np.append(st[:-1:2].astype(bool), False)\n",
    "                                       ].sum()) / (tau1 - diag[st_bin]))\n",
    "            else:  # Met event\n",
    "                p *= (np.exp(log_theta[e//2, np.append(st[1::2].astype(bool), True)].sum()) / (\n",
    "                    tau1 - diag[st_bin]))\n",
    "        pass\n",
    "\n",
    "    st = np.append(state[1::2], [1])  # reduce to met events\n",
    "    k = len(order_2) + st.sum()\n",
    "    state = st.copy()\n",
    "    if len(order_2) > 0:\n",
    "        state[order_2 // 2] = 1\n",
    "    event_to_bin = {e: 1 << i for i, e in enumerate(np.nonzero(state)[0])}\n",
    "    st_bin = (st[state.astype(bool)] << np.arange(k)).sum()\n",
    "    diag = get_diag_unpaired(log_theta=log_theta, state=state)\n",
    "    p *= tau2 / (tau2 - diag[st_bin])\n",
    "\n",
    "    for i, e in enumerate(order_2):\n",
    "        e = e//2\n",
    "        st[e] = 1\n",
    "        st_bin += event_to_bin[e]\n",
    "        p *= (np.exp(log_theta[e, st.astype(bool)].sum()\n",
    "                     ) / (tau2 - diag[st_bin]))\n",
    "        pass\n",
    "\n",
    "    return p\n",
    "\n",
    "# n = log_theta.shape[0] - 1\n",
    "# p1 = likelihood(order_1=np.array([0, 1, 2*n]), order_2=np.array(\n",
    "#     [3]), log_theta=log_theta, tau1=tau1, tau2=tau2)\n",
    "# p2 = likelihood(order_1=np.array([0, 1, 2*n, 3]), order_2=np.array(\n",
    "#     []), log_theta=log_theta, tau1=tau1, tau2=tau2)\n",
    "# print(p1, p2, p1+p2, sep=\"\\n\")\n",
    "\n",
    "\n",
    "likelihood(order_1=np.array([0,  1,  2,  3, 70, 20,  8,  4,  5]), order_2=[], log_theta=log_theta, tau1=tau1, tau2=tau2) \\\n",
    "    + likelihood(order_1=np.array([0,  1,  2,  3, 70, 20,  8,  4]),\n",
    "                 order_2=np.array([5]), log_theta=log_theta, tau1=tau1, tau2=tau2)"
   ]
  },
  {
   "cell_type": "code",
   "execution_count": 4,
   "metadata": {},
   "outputs": [],
   "source": [
    "# import matplotlib.pyplot as plt\n",
    "# from matplotlib import cm\n",
    "\n",
    "# f,a = plt.subplots(ncols=2, sharey=True)\n",
    "\n",
    "# for i in range(65,85):\n",
    "#     a[0].plot([0,1], [x[chr(i)], y[chr(i)]], label=chr(i), color=cm.hsv((i-65)/20))\n",
    "#     if chr(i) in x_hat.keys():\n",
    "#         a[1].plot([0,1], [x[chr(i)], y[chr(i)]], label=chr(i), color=cm.hsv((i-65)/20))"
   ]
  },
  {
   "cell_type": "markdown",
   "metadata": {},
   "source": [
    "Function to transform a state to all kinds of different observations"
   ]
  },
  {
   "cell_type": "code",
   "execution_count": 86,
   "metadata": {},
   "outputs": [],
   "source": [
    "def get_combos(order: np.array) -> list[tuple[np.array]]:\n",
    "    seeding = np.where(order == 2*n)[0]\n",
    "    combos = list()\n",
    "    for i in range(len(order)-seeding[0]):\n",
    "        combos.append(np.split(order, [len(order)-i]))\n",
    "        if not order[-i - 1] % 2:\n",
    "            break\n",
    "    return combos"
   ]
  },
  {
   "cell_type": "code",
   "execution_count": 90,
   "metadata": {},
   "outputs": [
    {
     "name": "stdout",
     "output_type": "stream",
     "text": [
      "(array([[ 0,  1,  2,  3,  4,  5, 70, 20,  8, 23],\n",
      "       [ 0,  1,  2,  3, 70, 20,  8,  4, 23,  5],\n",
      "       [ 0,  1,  2,  3, 70, 20,  8, 23,  4,  5],\n",
      "       [ 0,  1,  2,  3, 70, 20,  8, 23,  5,  4]]), [5.017845375430524e-12, 8.77775417890597e-12, 5.806851340961197e-12, 3.1807056392086498e-12])\n"
     ]
    }
   ],
   "source": [
    "state = np.zeros(2 * mmhn.n + 1, dtype=int)\n",
    "state[:6] = 1\n",
    "state[[8, 20]] = 1\n",
    "state[23] = 1\n",
    "state[-1] = 1\n",
    "likeliest = mmhn._likeliest_order_paired(state)\n",
    "print(likeliest)"
   ]
  },
  {
   "cell_type": "code",
   "execution_count": 91,
   "metadata": {},
   "outputs": [
    {
     "name": "stdout",
     "output_type": "stream",
     "text": [
      "[ 0  1  2  3 70 20  8  4 23  5] [] 1.6863043307471983e-12\n",
      "[ 0  1  2  3 70 20  8  4 23] [5] 2.6267928928929393e-12\n",
      "[ 0  1  2  3 70 20  8  4] [23  5] 4.464656955265833e-12\n"
     ]
    },
    {
     "data": {
      "text/plain": [
       "8.77775417890597e-12"
      ]
     },
     "execution_count": 91,
     "metadata": {},
     "output_type": "execute_result"
    }
   ],
   "source": [
    "s = 0\n",
    "for c1, c2 in get_combos(np.array([0,  1,  2,  3, 70, 20,  8,  4, 23,  5], dtype=int)):\n",
    "\n",
    "    l = likelihood(order_1=c1, order_2=c2,\n",
    "                   log_theta=log_theta, tau1=tau1, tau2=tau2)\n",
    "    print(c1, c2, l)\n",
    "    s += l\n",
    "s"
   ]
  }
 ],
 "metadata": {
  "kernelspec": {
   "display_name": "mhn_env",
   "language": "python",
   "name": "python3"
  },
  "language_info": {
   "codemirror_mode": {
    "name": "ipython",
    "version": 3
   },
   "file_extension": ".py",
   "mimetype": "text/x-python",
   "name": "python",
   "nbconvert_exporter": "python",
   "pygments_lexer": "ipython3",
   "version": "3.10.12"
  },
  "orig_nbformat": 4
 },
 "nbformat": 4,
 "nbformat_minor": 2
}
