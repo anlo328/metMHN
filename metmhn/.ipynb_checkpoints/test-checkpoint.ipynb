{
 "cells": [
  {
   "cell_type": "code",
   "execution_count": 26,
   "metadata": {},
   "outputs": [],
   "source": [
    "import explicit_statetespace as efss\n",
    "import ssr_kronecker_vector as ssr\n",
    "import numpy as np\n"
   ]
  },
  {
   "cell_type": "code",
   "execution_count": 27,
   "metadata": {},
   "outputs": [],
   "source": [
    "n = 7\n",
    "npone = n + 1\n",
    "sparsity = 0.5\n",
    "theta = np.zeros((npone, npone))\n",
    "theta += np.diag(np.random.normal(size=npone))\n",
    "index = np.argwhere(theta == 0)[\n",
    "    np.random.choice(npone**2-npone, size=int((npone**2-npone)\n",
    "                     * (1-sparsity)), replace=True)\n",
    "]\n",
    "theta[index[:, 0], index[:, 1]] = np.random.normal(\n",
    "    size=int((npone**2-npone)*(1-sparsity)))\n"
   ]
  },
  {
   "cell_type": "code",
   "execution_count": 28,
   "metadata": {},
   "outputs": [],
   "source": [
    "state = np.random.randint(2, size=2*n+1)\n",
    "length = 2**sum(state)\n"
   ]
  },
  {
   "cell_type": "code",
   "execution_count": 29,
   "metadata": {},
   "outputs": [],
   "source": [
    "# Test explicit ssr vs. shuffle trick ssr\n",
    "for j in range(length):\n",
    "    p = np.zeros(2**sum(state))\n",
    "    p[j] = 1\n",
    "    assert(np.allclose(\n",
    "        efss.ssr_build_q(state, np.exp(theta)) @ p,\n",
    "        ssr.kronvec(log_theta=theta, p=p, n=n, state=state)\n",
    "    ))\n"
   ]
  },
  {
   "cell_type": "code",
   "execution_count": 30,
   "metadata": {},
   "outputs": [],
   "source": [
    "mut = [state[j] + 2 * state[j + 1] for j in range(0, 2 * n, 2)]\n",
    "mut.append(state[-1])\n",
    "mut = np.array(mut)\n"
   ]
  },
  {
   "cell_type": "code",
   "execution_count": 31,
   "metadata": {},
   "outputs": [],
   "source": [
    "# Test explicit ssr vs. shuffle trick ssr in sync\n",
    "for j in range(length):\n",
    "    p = np.zeros(length)\n",
    "    p[j] = 1\n",
    "    for i in range(n):\n",
    "        assert(np.allclose(\n",
    "            efss.sync_ssr_q(mut=mut, theta=np.exp(theta), i=i, n=n) @ p,\n",
    "            ssr.kronvec_sync(log_theta=theta, p=p, n=n, i=i, state=state)\n",
    "        ))\n"
   ]
  },
  {
   "cell_type": "code",
   "execution_count": 32,
   "metadata": {},
   "outputs": [],
   "source": [
    "# Test explicit ssr vs. shuffle trick ssr in async prim\n",
    "for j in range(length):\n",
    "    p = np.zeros(length)\n",
    "    p[j] = 1\n",
    "    for i in range(n):\n",
    "        assert(np.allclose(\n",
    "            efss.prim_ssr_q(mut=mut, theta=np.exp(theta), i=i, n=n) @ p,\n",
    "            ssr.kronvec_prim(log_theta=theta, p=p, n=n, i=i, state=state)\n",
    "        ))\n"
   ]
  },
  {
   "cell_type": "code",
   "execution_count": 33,
   "metadata": {},
   "outputs": [],
   "source": [
    "# Test explicit ssr vs. shuffle trick ssr in async met\n",
    "for j in range(length):\n",
    "    p = np.zeros(length)\n",
    "    p[j] = 1\n",
    "    for i in range(n):\n",
    "        assert(np.allclose(\n",
    "            efss.met_ssr_q(mut=mut, theta=np.exp(theta), i=i, n=n) @ p,\n",
    "            ssr.kronvec_met(log_theta=theta, p=p, n=n, i=i, state=state)\n",
    "        ))\n"
   ]
  },
  {
   "cell_type": "code",
   "execution_count": 34,
   "metadata": {},
   "outputs": [],
   "source": [
    "# Test explicit ssr vs. shuffle trick ssr in seeding\n",
    "for j in range(length):\n",
    "    p = np.zeros(length)\n",
    "    p[j] = 1\n",
    "    assert(np.allclose(\n",
    "        efss.seeding_ssr_q(mut=mut, theta=np.exp(theta), n=n) @ p,\n",
    "        ssr.kronvec_seed(log_theta=theta, p=p, n=n, state=state)\n",
    "    ))\n"
   ]
  },
  {
   "cell_type": "code",
   "execution_count": 35,
   "metadata": {},
   "outputs": [],
   "source": [
    "# Test no diag\n",
    "for j in range(length):\n",
    "    p = np.zeros(2**sum(state))\n",
    "    p[j] = 1\n",
    "    q = ssr.kronvec(log_theta=theta, p=p, n=n, state=state)\n",
    "    q[j] = 0\n",
    "    assert(np.allclose(\n",
    "        q,\n",
    "        ssr.kronvec(log_theta=theta, p=p, n=n, state=state, diag=False)\n",
    "    ))\n"
   ]
  }
 ],
 "metadata": {
  "kernelspec": {
   "display_name": "Python 3.9.7 ('base')",
   "language": "python",
   "name": "python3"
  },
  "language_info": {
   "codemirror_mode": {
    "name": "ipython",
    "version": 3
   },
   "file_extension": ".py",
   "mimetype": "text/x-python",
   "name": "python",
   "nbconvert_exporter": "python",
   "pygments_lexer": "ipython3",
   "version": "3.9.7"
  },
  "orig_nbformat": 4,
  "vscode": {
   "interpreter": {
    "hash": "a8ffae459ed44daffea6f44829d1b43eb0d7c45549ab6711ec1626c23ec43bc9"
   }
  }
 },
 "nbformat": 4,
 "nbformat_minor": 2
}
